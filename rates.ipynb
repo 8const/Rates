{
 "cells": [
  {
   "cell_type": "markdown",
   "metadata": {},
   "source": [
    "Hi! This is my attempt to study how returns depend on wheather a close was all-time high or not.\n",
    "So in these notebook we will find indexes of months that are ath closed and ones that are not.\n",
    "We will define a 2 functions of perioud after close, that output average cont. comp. int. rate on this period.\n",
    "One of them is for anth closed month and one if for not ath closed ones.\n",
    "Then we'll plot their outputs for for periods up to 120 months.\n",
    "\n",
    "Please note: the following code is not of the best quality and so is this research.\n",
    "You should only belieave the conclusion if you have checked everything.\n",
    "\n",
    "Feel free to contact me.\n",
    "Email: constantinelarionoff@gmail.com\n",
    "Telegram: @constantinelarionoff\n",
    "Twitter: @constlarionoff"
   ]
  },
  {
   "cell_type": "code",
   "execution_count": 46,
   "metadata": {},
   "outputs": [],
   "source": [
    "#Theese are libraries\n",
    "import numpy as np\n",
    "from matplotlib import pyplot as plt\n",
    "\n",
    "%matplotlib inline\n",
    "import mpld3\n",
    "mpld3.enable_notebook()\n",
    "import pandas as pd"
   ]
  },
  {
   "cell_type": "code",
   "execution_count": 47,
   "metadata": {},
   "outputs": [
    {
     "name": "stdout",
     "output_type": "stream",
     "text": [
      "           Date         Open         High          Low        Close  \\\n",
      "0    1971-01-01    92.150002    96.489998    90.639999    95.879997   \n",
      "1    1971-02-01    95.879997    99.589996    94.919998    96.750000   \n",
      "2    1971-03-01    96.750000   102.029999    96.110001   100.309998   \n",
      "3    1971-04-01   100.309998   105.599998    99.629997   103.949997   \n",
      "4    1971-05-01   103.949997   104.419998    98.680000    99.629997   \n",
      "5    1971-06-01    99.629997   102.070000    96.919998    98.699997   \n",
      "6    1971-07-01    99.160004   101.519997    95.080002    95.580002   \n",
      "7    1971-08-01    95.580002   101.510002    92.809998    99.029999   \n",
      "8    1971-09-01    99.029999   102.250000    96.970001    98.339996   \n",
      "9    1971-10-01    98.339996   100.959999    92.959999    94.230003   \n",
      "10   1971-11-01    94.230003    96.080002    89.339996    93.989998   \n",
      "11   1971-12-01    93.989998   102.209999    93.949997   102.089996   \n",
      "12   1972-01-01   102.089996   105.000000   100.870003   103.940002   \n",
      "13   1972-02-01   103.940002   107.160004   103.099998   106.570000   \n",
      "14   1972-03-01   106.570000   109.750000   105.860001   107.199997   \n",
      "15   1972-04-01   107.199997   111.110001   106.180000   107.669998   \n",
      "16   1972-05-01   107.669998   111.480003   103.830002   109.529999   \n",
      "17   1972-06-01   109.529999   110.510002   105.940002   107.139999   \n",
      "18   1972-07-01   107.139999   110.269997   104.430000   107.389999   \n",
      "19   1972-08-01   107.389999   113.449997   107.059998   111.089996   \n",
      "20   1972-09-01   111.089996   112.120003   107.349998   110.550003   \n",
      "21   1972-10-01   110.550003   112.260002   106.269997   111.580002   \n",
      "22   1972-11-01   111.580002   117.910004   111.320000   116.669998   \n",
      "23   1972-12-01   116.669998   119.790001   114.629997   118.050003   \n",
      "24   1973-01-01   118.059998   121.739998   114.970001   116.029999   \n",
      "25   1973-02-01   116.029999   118.980003   109.800003   111.680000   \n",
      "26   1973-03-01   111.680000   115.610001   107.410004   111.519997   \n",
      "27   1973-04-01   111.519997   113.650002   105.440002   106.970001   \n",
      "28   1973-05-01   106.970001   112.250000   101.360001   104.949997   \n",
      "29   1973-06-01   104.949997   109.519997   101.449997   104.260002   \n",
      "..          ...          ...          ...          ...          ...   \n",
      "559  2017-08-01  2477.100098  2490.870117  2417.350098  2471.649902   \n",
      "560  2017-09-01  2474.419922  2519.439941  2446.550049  2519.360107   \n",
      "561  2017-10-01  2521.199951  2582.979980  2520.399902  2575.260010   \n",
      "562  2017-11-01  2583.209961  2657.739990  2557.449951  2584.840088   \n",
      "563  2017-12-01  2645.100098  2694.969971  2605.520020  2673.610107   \n",
      "564  2018-01-01  2683.729980  2872.870117  2682.360107  2823.810059   \n",
      "565  2018-02-01  2816.449951  2835.959961  2532.689941  2713.830078   \n",
      "566  2018-03-01  2715.219971  2801.899902  2585.889893  2640.870117   \n",
      "567  2018-04-01  2633.449951  2717.489990  2553.800049  2648.050049   \n",
      "568  2018-05-01  2642.959961  2742.239990  2594.620117  2705.270020   \n",
      "569  2018-06-01  2718.699951  2791.469971  2691.989990  2718.370117   \n",
      "570  2018-07-01  2704.949951  2848.030029  2698.949951  2816.290039   \n",
      "571  2018-08-01  2821.169922  2916.500000  2796.340088  2901.520020   \n",
      "572  2018-09-01  2896.959961  2940.909912  2864.120117  2913.979980   \n",
      "573  2018-10-01  2926.290039  2939.860107  2603.540039  2711.739990   \n",
      "574  2018-11-01  2717.580078  2815.149902  2631.090088  2760.169922   \n",
      "575  2018-12-01  2790.500000  2800.179932  2346.580078  2506.850098   \n",
      "576  2019-01-01  2476.959961  2708.949951  2443.959961  2704.100098   \n",
      "577  2019-02-01  2702.320068  2813.489990  2681.830078  2784.489990   \n",
      "578  2019-03-01  2798.219971  2860.310059  2722.270020  2834.399902   \n",
      "579  2019-04-01  2848.629883  2949.520020  2848.629883  2945.830078   \n",
      "580  2019-05-01  2952.330078  2954.129883  2750.520020  2752.060059   \n",
      "581  2019-06-01  2751.530029  2964.149902  2728.810059  2941.760010   \n",
      "582  2019-07-01  2971.409912  3027.979980  2952.219971  2980.379883   \n",
      "583  2019-08-01  2980.320068  3013.590088  2822.120117  2926.459961   \n",
      "584  2019-09-01  2909.010010  3021.989990  2891.850098  2976.739990   \n",
      "585  2019-10-01  2983.689941  3050.100098  2855.939941  3037.560059   \n",
      "586  2019-11-01  3050.719971  3154.260010  3050.719971  3140.979980   \n",
      "587  2019-12-01  3143.850098  3247.929932  3070.330078  3230.780029   \n",
      "588  2020-01-01  3244.669922  3267.070068  3214.639893  3253.050049   \n",
      "\n",
      "       Adj Close       Volume  \n",
      "0      95.879997    348490000  \n",
      "1      96.750000    371190000  \n",
      "2     100.309998    389880000  \n",
      "3     103.949997    401580000  \n",
      "4      99.629997    307360000  \n",
      "5      98.699997    303590000  \n",
      "6      95.580002    265240000  \n",
      "7      99.029999    320520000  \n",
      "8      98.339996    252720000  \n",
      "9      94.230003    280080000  \n",
      "10     93.989998    276410000  \n",
      "11    102.089996    377680000  \n",
      "12    103.940002    379490000  \n",
      "13    106.570000    376260000  \n",
      "14    107.199997    403650000  \n",
      "15    107.669998    367990000  \n",
      "16    109.529999    335850000  \n",
      "17    107.139999    314510000  \n",
      "18    107.389999    288900000  \n",
      "19    111.089996    356930000  \n",
      "20    110.550003    246190000  \n",
      "21    111.580002    317300000  \n",
      "22    116.669998    405570000  \n",
      "23    118.050003    344730000  \n",
      "24    116.029999    393750000  \n",
      "25    111.680000    318190000  \n",
      "26    111.519997    343400000  \n",
      "27    106.970001    277990000  \n",
      "28    104.949997    337260000  \n",
      "29    104.260002    268700000  \n",
      "..           ...          ...  \n",
      "559  2471.649902  70616030000  \n",
      "560  2519.360107  66337980000  \n",
      "561  2575.260010  70871570000  \n",
      "562  2584.840088  95142800000  \n",
      "563  2673.610107  65251190000  \n",
      "564  2823.810059  76860120000  \n",
      "565  2713.830078  79579410000  \n",
      "566  2640.870117  76369800000  \n",
      "567  2648.050049  69648590000  \n",
      "568  2705.270020  75617280000  \n",
      "569  2718.370117  77439710000  \n",
      "570  2816.290039  64542170000  \n",
      "571  2901.520020  69238220000  \n",
      "572  2913.979980  62492080000  \n",
      "573  2711.739990  91327930000  \n",
      "574  2760.169922  80080110000  \n",
      "575  2506.850098  83522570000  \n",
      "576  2704.100098  80401630000  \n",
      "577  2784.489990  70183430000  \n",
      "578  2834.399902  78596280000  \n",
      "579  2945.830078  69604840000  \n",
      "580  2752.060059  76860120000  \n",
      "581  2941.760010  70881390000  \n",
      "582  2980.379883  70349470000  \n",
      "583  2926.459961  79599440000  \n",
      "584  2976.739990  73992330000  \n",
      "585  3037.560059  77564550000  \n",
      "586  3140.979980  72179920000  \n",
      "587  3230.780029  72054000000  \n",
      "588  3253.050049  17734880000  \n",
      "\n",
      "[589 rows x 7 columns]\n"
     ]
    }
   ],
   "source": [
    "#getting data\n",
    "#file s&p5001970-2020.csv is attached on GitHub\n",
    "df = pd.read_csv(r\"C:\\Users\\Constantine\\Desktop\\s&p5001970-2020.csv\", delimiter=',')\n",
    "print(df)"
   ]
  },
  {
   "cell_type": "code",
   "execution_count": 12,
   "metadata": {},
   "outputs": [
    {
     "data": {
      "text/plain": [
       "118.050003"
      ]
     },
     "execution_count": 12,
     "metadata": {},
     "output_type": "execute_result"
    }
   ],
   "source": [
    "#function finds max value in \"Adj Close\" before nth row\n",
    "def high(n):\n",
    "    list = []\n",
    "    for i in range(0, n+1):\n",
    "        list.append(df.iloc[:,5][i]) #df.iloc[:,5][i] is an i'th element of 5th column of df so it's an Adj Close value\n",
    "    return max(list)\n",
    "high(29)"
   ]
  },
  {
   "cell_type": "code",
   "execution_count": 13,
   "metadata": {},
   "outputs": [
    {
     "data": {
      "text/plain": [
       "0"
      ]
     },
     "execution_count": 13,
     "metadata": {},
     "output_type": "execute_result"
    }
   ],
   "source": [
    "#function determines wheather a n'th month closed all time high (returns 1), or not (returns 0)\n",
    "def check(n):\n",
    "    if df.iloc[:,5][n] >= high(n):\n",
    "        return 1\n",
    "    else:\n",
    "        return 0\n",
    "check(4)"
   ]
  },
  {
   "cell_type": "code",
   "execution_count": 14,
   "metadata": {},
   "outputs": [],
   "source": [
    "# a list of indexes (i) of rows that are closed all-time high\n",
    "ath = [] \n",
    "for i in range(0, 589):\n",
    "    if check(i) == 1:\n",
    "        ath.append(i)"
   ]
  },
  {
   "cell_type": "code",
   "execution_count": 15,
   "metadata": {},
   "outputs": [],
   "source": [
    "#function returns cont. comp. int. rates, inputs n - index of row, per - period after close on which we calculate r\n",
    "r = lambda n, per: np.log(df.iloc[:,5][n+per]/df.iloc[:,5][n])/per"
   ]
  },
  {
   "cell_type": "code",
   "execution_count": 18,
   "metadata": {},
   "outputs": [],
   "source": [
    "#function returns average value of list of floats\n",
    "def a(lst):\n",
    "    v = 0\n",
    "    for i in lst:\n",
    "        v += i\n",
    "    return v/len(lst)"
   ]
  },
  {
   "cell_type": "code",
   "execution_count": 19,
   "metadata": {},
   "outputs": [
    {
     "data": {
      "text/plain": [
       "6.95"
      ]
     },
     "execution_count": 19,
     "metadata": {},
     "output_type": "execute_result"
    }
   ],
   "source": [
    "#function outputs average cont. comp. int. rate for certain period after ath close\n",
    "def avg(per):\n",
    "    sum = []\n",
    "    for i in ath:\n",
    "        try:\n",
    "            sum.append(r(i, per))\n",
    "        except Exception:\n",
    "            continue\n",
    "    w = round(12*a(sum)*100, 2)\n",
    "    return w\n",
    "avg(4)"
   ]
  },
  {
   "cell_type": "code",
   "execution_count": 42,
   "metadata": {},
   "outputs": [
    {
     "name": "stdout",
     "output_type": "stream",
     "text": [
      "[6.49, 7.7, 7.1, 6.95, 8.3, 8.35, 8.58, 8.32, 8.44, 8.7, 8.85, 8.7, 8.15, 8.11, 7.65, 7.56, 7.56, 7.51, 7.68, 7.38, 7.23, 7.03, 7.08, 7.59, 7.77, 7.97, 7.86, 7.8, 7.83, 7.79, 7.83, 7.81, 7.69, 7.73, 8.01, 8.06, 8.0, 8.02, 7.79, 7.8, 7.66, 7.53, 7.43, 7.42, 7.6, 7.65, 7.91, 7.93, 7.97, 7.96, 7.89, 7.83, 7.79, 7.77, 7.56, 7.45, 7.38, 7.27, 7.28, 7.22, 7.27, 7.22, 7.16, 7.2, 7.13, 7.13, 7.06, 7.01, 7.04, 7.01, 7.08, 7.06, 7.09, 7.12, 7.09, 7.08, 7.1, 7.11, 7.08, 7.06, 7.04, 7.01, 6.98, 6.89, 6.87, 6.79, 6.72, 6.71, 6.73, 6.73, 6.73, 6.75, 6.81, 6.83, 6.89, 6.91, 6.93, 6.94, 6.9, 6.92, 6.95, 6.94, 6.93, 6.9, 6.9, 6.89, 6.81, 6.79, 6.74, 6.66, 6.67, 6.67, 6.65, 6.6, 6.54, 6.56, 6.51, 6.47, 6.45, 6.43]\n",
      "120\n"
     ]
    }
   ],
   "source": [
    "#list of average rates for periods after ath close in range per ∈  [1, 120]\n",
    "rates = []\n",
    "for i in range(1, 121):\n",
    "    rates.append(avg(i))\n",
    "print(rates)\n",
    "print(len(rates))"
   ]
  },
  {
   "cell_type": "code",
   "execution_count": null,
   "metadata": {},
   "outputs": [],
   "source": []
  },
  {
   "cell_type": "code",
   "execution_count": 26,
   "metadata": {},
   "outputs": [],
   "source": [
    "#list of indexes of rows for NOT ath closed months\n",
    "#same as ath, but for NOT ath closed\n",
    "nath = []\n",
    "for i in range(0, 589):\n",
    "    if check(i) == 0:\n",
    "        nath.append(i)"
   ]
  },
  {
   "cell_type": "code",
   "execution_count": 27,
   "metadata": {},
   "outputs": [
    {
     "data": {
      "text/plain": [
       "7.15"
      ]
     },
     "execution_count": 27,
     "metadata": {},
     "output_type": "execute_result"
    }
   ],
   "source": [
    "#same funct as avg, but for NOT ath closed\n",
    "def navg(per):\n",
    "    nsum = []\n",
    "    for i in nath:\n",
    "        try:\n",
    "            nsum.append(r(i, per))\n",
    "        except Exception:\n",
    "            continue\n",
    "    nw = round(12*a(nsum)*100, 2)\n",
    "    return nw\n",
    "navg(4)"
   ]
  },
  {
   "cell_type": "code",
   "execution_count": 43,
   "metadata": {},
   "outputs": [
    {
     "name": "stdout",
     "output_type": "stream",
     "text": [
      "[7.42, 7.03, 7.17, 7.15, 6.71, 6.68, 6.63, 6.71, 6.66, 6.6, 6.56, 6.6, 6.75, 6.73, 6.87, 6.89, 6.89, 6.92, 6.86, 6.95, 6.99, 7.05, 7.03, 6.86, 6.81, 6.75, 6.79, 6.81, 6.81, 6.83, 6.82, 6.83, 6.87, 6.87, 6.79, 6.79, 6.82, 6.82, 6.9, 6.91, 6.96, 7.01, 7.06, 7.09, 7.07, 7.08, 7.03, 7.05, 7.05, 7.07, 7.1, 7.13, 7.15, 7.16, 7.23, 7.28, 7.31, 7.36, 7.37, 7.4, 7.39, 7.41, 7.43, 7.43, 7.46, 7.46, 7.49, 7.51, 7.5, 7.52, 7.5, 7.51, 7.51, 7.5, 7.52, 7.53, 7.53, 7.53, 7.54, 7.55, 7.57, 7.58, 7.59, 7.62, 7.63, 7.66, 7.69, 7.69, 7.69, 7.7, 7.7, 7.7, 7.68, 7.68, 7.67, 7.67, 7.67, 7.67, 7.68, 7.68, 7.68, 7.68, 7.68, 7.7, 7.7, 7.71, 7.74, 7.75, 7.77, 7.79, 7.79, 7.8, 7.8, 7.82, 7.83, 7.82, 7.84, 7.85, 7.85, 7.85]\n",
      "120\n"
     ]
    }
   ],
   "source": [
    "#same as rates but for NOT ath closed\n",
    "norates = []\n",
    "for i in range(1, 121):\n",
    "    norates.append(navg(i))\n",
    "print(norates)\n",
    "print(len(norates))"
   ]
  },
  {
   "cell_type": "code",
   "execution_count": 50,
   "metadata": {},
   "outputs": [
    {
     "data": {
      "image/png": "[encoded data removed]",
      "text/html": [
       "\n",
       "\n",
       "<style>\n",
       "\n",
       "</style>\n",
       "\n",
       "<div id=\"fig_el702019667231835609294153248\"></div>\n",
       "<script>\n",
       "function mpld3_load_lib(url, callback){\n",
       "  var s = document.createElement('script');\n",
       "  s.src = url;\n",
       "  s.async = true;\n",
       "  s.onreadystatechange = s.onload = callback;\n",
       "  s.onerror = function(){console.warn(\"failed to load library \" + url);};\n",
       "  document.getElementsByTagName(\"head\")[0].appendChild(s);\n",
       "}\n",
       "\n",
       "if(typeof(mpld3) !== \"undefined\" && mpld3._mpld3IsLoaded){\n",
       "   // already loaded: just create the figure\n",
       "   !function(mpld3){\n",
       "       \n",
       "       mpld3.draw_figure(\"fig_el702019667231835609294153248\", {\"width\": 720.0, \"height\": 720.0, \"axes\": [{\"bbox\": [0.125, 0.125, 0.775, 0.755], \"xlim\": [-5.95, 124.95], \"ylim\": [6.308999999999999, 8.971], \"xdomain\": [-5.95, 124.95], \"ydomain\": [6.308999999999999, 8.971], \"xscale\": \"linear\", \"yscale\": \"linear\", \"axes\": [{\"position\": \"bottom\", \"nticks\": 9, \"tickvalues\": null, \"tickformat\": null, \"scale\": \"linear\", \"fontsize\": 10.0, \"grid\": {\"gridOn\": false}, \"visible\": true}, {\"position\": \"left\", \"nticks\": 7, \"tickvalues\": null, \"tickformat\": null, \"scale\": \"linear\", \"fontsize\": 10.0, \"grid\": {\"gridOn\": false}, \"visible\": true}], \"axesbg\": \"#FFFFFF\", \"axesbgalpha\": null, \"zoomable\": true, \"id\": \"el70201966723183056\", \"lines\": [], \"paths\": [], \"markers\": [{\"data\": \"data01\", \"xindex\": 0, \"yindex\": 1, \"coordinates\": \"data\", \"id\": \"el70201966738052936pts\", \"facecolor\": \"#1F77B4\", \"edgecolor\": \"#1F77B4\", \"edgewidth\": 1.0, \"alpha\": 1, \"zorder\": 2, \"markerpath\": [[[0.0, 3.0], [0.7956093000000001, 3.0], [1.5587396123545605, 2.683901074764725], [2.121320343559643, 2.121320343559643], [2.683901074764725, 1.5587396123545605], [3.0, 0.7956093000000001], [3.0, 0.0], [3.0, -0.7956093000000001], [2.683901074764725, -1.5587396123545605], [2.121320343559643, -2.121320343559643], [1.5587396123545605, -2.683901074764725], [0.7956093000000001, -3.0], [0.0, -3.0], [-0.7956093000000001, -3.0], [-1.5587396123545605, -2.683901074764725], [-2.121320343559643, -2.121320343559643], [-2.683901074764725, -1.5587396123545605], [-3.0, -0.7956093000000001], [-3.0, 0.0], [-3.0, 0.7956093000000001], [-2.683901074764725, 1.5587396123545605], [-2.121320343559643, 2.121320343559643], [-1.5587396123545605, 2.683901074764725], [-0.7956093000000001, 3.0], [0.0, 3.0]], [\"M\", \"C\", \"C\", \"C\", \"C\", \"C\", \"C\", \"C\", \"C\", \"Z\"]]}, {\"data\": \"data01\", \"xindex\": 0, \"yindex\": 2, \"coordinates\": \"data\", \"id\": \"el70201966726383824pts\", \"facecolor\": \"#FF7F0E\", \"edgecolor\": \"#FF7F0E\", \"edgewidth\": 1.0, \"alpha\": 1, \"zorder\": 2, \"markerpath\": [[[0.0, 3.0], [0.7956093000000001, 3.0], [1.5587396123545605, 2.683901074764725], [2.121320343559643, 2.121320343559643], [2.683901074764725, 1.5587396123545605], [3.0, 0.7956093000000001], [3.0, 0.0], [3.0, -0.7956093000000001], [2.683901074764725, -1.5587396123545605], [2.121320343559643, -2.121320343559643], [1.5587396123545605, -2.683901074764725], [0.7956093000000001, -3.0], [0.0, -3.0], [-0.7956093000000001, -3.0], [-1.5587396123545605, -2.683901074764725], [-2.121320343559643, -2.121320343559643], [-2.683901074764725, -1.5587396123545605], [-3.0, -0.7956093000000001], [-3.0, 0.0], [-3.0, 0.7956093000000001], [-2.683901074764725, 1.5587396123545605], [-2.121320343559643, 2.121320343559643], [-1.5587396123545605, 2.683901074764725], [-0.7956093000000001, 3.0], [0.0, 3.0]], [\"M\", \"C\", \"C\", \"C\", \"C\", \"C\", \"C\", \"C\", \"C\", \"Z\"]]}], \"texts\": [{\"text\": \"Perioud After All Time High Closed Month Studied (In Month)\", \"position\": [0.5, -0.03863134657836642], \"coordinates\": \"axes\", \"h_anchor\": \"middle\", \"v_baseline\": \"hanging\", \"rotation\": -0.0, \"fontsize\": 10.0, \"color\": \"#000000\", \"alpha\": 1, \"zorder\": 3, \"id\": \"el70201966726382368\"}, {\"text\": \"Continiously Compounded Interest Rate (In %) During Perioud Market On X axis\", \"position\": [-0.04838709677419355, 0.5], \"coordinates\": \"axes\", \"h_anchor\": \"middle\", \"v_baseline\": \"auto\", \"rotation\": -90.0, \"fontsize\": 10.0, \"color\": \"#000000\", \"alpha\": 1, \"zorder\": 3, \"id\": \"el70201966726382760\"}], \"collections\": [], \"images\": [], \"sharex\": [], \"sharey\": []}], \"data\": {\"data01\": [[0.0, 6.49, 7.42], [1.0, 7.7, 7.03], [2.0, 7.1, 7.17], [3.0, 6.95, 7.15], [4.0, 8.3, 6.71], [5.0, 8.35, 6.68], [6.0, 8.58, 6.63], [7.0, 8.32, 6.71], [8.0, 8.44, 6.66], [9.0, 8.7, 6.6], [10.0, 8.85, 6.56], [11.0, 8.7, 6.6], [12.0, 8.15, 6.75], [13.0, 8.11, 6.73], [14.0, 7.65, 6.87], [15.0, 7.56, 6.89], [16.0, 7.56, 6.89], [17.0, 7.51, 6.92], [18.0, 7.68, 6.86], [19.0, 7.38, 6.95], [20.0, 7.23, 6.99], [21.0, 7.03, 7.05], [22.0, 7.08, 7.03], [23.0, 7.59, 6.86], [24.0, 7.77, 6.81], [25.0, 7.97, 6.75], [26.0, 7.86, 6.79], [27.0, 7.8, 6.81], [28.0, 7.83, 6.81], [29.0, 7.79, 6.83], [30.0, 7.83, 6.82], [31.0, 7.81, 6.83], [32.0, 7.69, 6.87], [33.0, 7.73, 6.87], [34.0, 8.01, 6.79], [35.0, 8.06, 6.79], [36.0, 8.0, 6.82], [37.0, 8.02, 6.82], [38.0, 7.79, 6.9], [39.0, 7.8, 6.91], [40.0, 7.66, 6.96], [41.0, 7.53, 7.01], [42.0, 7.43, 7.06], [43.0, 7.42, 7.09], [44.0, 7.6, 7.07], [45.0, 7.65, 7.08], [46.0, 7.91, 7.03], [47.0, 7.93, 7.05], [48.0, 7.97, 7.05], [49.0, 7.96, 7.07], [50.0, 7.89, 7.1], [51.0, 7.83, 7.13], [52.0, 7.79, 7.15], [53.0, 7.77, 7.16], [54.0, 7.56, 7.23], [55.0, 7.45, 7.28], [56.0, 7.38, 7.31], [57.0, 7.27, 7.36], [58.0, 7.28, 7.37], [59.0, 7.22, 7.4], [60.0, 7.27, 7.39], [61.0, 7.22, 7.41], [62.0, 7.16, 7.43], [63.0, 7.2, 7.43], [64.0, 7.13, 7.46], [65.0, 7.13, 7.46], [66.0, 7.06, 7.49], [67.0, 7.01, 7.51], [68.0, 7.04, 7.5], [69.0, 7.01, 7.52], [70.0, 7.08, 7.5], [71.0, 7.06, 7.51], [72.0, 7.09, 7.51], [73.0, 7.12, 7.5], [74.0, 7.09, 7.52], [75.0, 7.08, 7.53], [76.0, 7.1, 7.53], [77.0, 7.11, 7.53], [78.0, 7.08, 7.54], [79.0, 7.06, 7.55], [80.0, 7.04, 7.57], [81.0, 7.01, 7.58], [82.0, 6.98, 7.59], [83.0, 6.89, 7.62], [84.0, 6.87, 7.63], [85.0, 6.79, 7.66], [86.0, 6.72, 7.69], [87.0, 6.71, 7.69], [88.0, 6.73, 7.69], [89.0, 6.73, 7.7], [90.0, 6.73, 7.7], [91.0, 6.75, 7.7], [92.0, 6.81, 7.68], [93.0, 6.83, 7.68], [94.0, 6.89, 7.67], [95.0, 6.91, 7.67], [96.0, 6.93, 7.67], [97.0, 6.94, 7.67], [98.0, 6.9, 7.68], [99.0, 6.92, 7.68], [100.0, 6.95, 7.68], [101.0, 6.94, 7.68], [102.0, 6.93, 7.68], [103.0, 6.9, 7.7], [104.0, 6.9, 7.7], [105.0, 6.89, 7.71], [106.0, 6.81, 7.74], [107.0, 6.79, 7.75], [108.0, 6.74, 7.77], [109.0, 6.66, 7.79], [110.0, 6.67, 7.79], [111.0, 6.67, 7.8], [112.0, 6.65, 7.8], [113.0, 6.6, 7.82], [114.0, 6.54, 7.83], [115.0, 6.56, 7.82], [116.0, 6.51, 7.84], [117.0, 6.47, 7.85], [118.0, 6.45, 7.85], [119.0, 6.43, 7.85]]}, \"id\": \"el70201966723183560\", \"plugins\": [{\"type\": \"reset\"}, {\"type\": \"zoom\", \"button\": true, \"enabled\": false}, {\"type\": \"boxzoom\", \"button\": true, \"enabled\": false}]});\n",
       "   }(mpld3);\n",
       "}else if(typeof define === \"function\" && define.amd){\n",
       "   // require.js is available: use it to load d3/mpld3\n",
       "   require.config({paths: {d3: \"https://mpld3.github.io/js/d3.v3.min\"}});\n",
       "   require([\"d3\"], function(d3){\n",
       "      window.d3 = d3;\n",
       "      mpld3_load_lib(\"https://mpld3.github.io/js/mpld3.v0.3.js\", function(){\n",
       "         \n",
       "         mpld3.draw_figure(\"fig_el702019667231835609294153248\", {\"width\": 720.0, \"height\": 720.0, \"axes\": [{\"bbox\": [0.125, 0.125, 0.775, 0.755], \"xlim\": [-5.95, 124.95], \"ylim\": [6.308999999999999, 8.971], \"xdomain\": [-5.95, 124.95], \"ydomain\": [6.308999999999999, 8.971], \"xscale\": \"linear\", \"yscale\": \"linear\", \"axes\": [{\"position\": \"bottom\", \"nticks\": 9, \"tickvalues\": null, \"tickformat\": null, \"scale\": \"linear\", \"fontsize\": 10.0, \"grid\": {\"gridOn\": false}, \"visible\": true}, {\"position\": \"left\", \"nticks\": 7, \"tickvalues\": null, \"tickformat\": null, \"scale\": \"linear\", \"fontsize\": 10.0, \"grid\": {\"gridOn\": false}, \"visible\": true}], \"axesbg\": \"#FFFFFF\", \"axesbgalpha\": null, \"zoomable\": true, \"id\": \"el70201966723183056\", \"lines\": [], \"paths\": [], \"markers\": [{\"data\": \"data01\", \"xindex\": 0, \"yindex\": 1, \"coordinates\": \"data\", \"id\": \"el70201966738052936pts\", \"facecolor\": \"#1F77B4\", \"edgecolor\": \"#1F77B4\", \"edgewidth\": 1.0, \"alpha\": 1, \"zorder\": 2, \"markerpath\": [[[0.0, 3.0], [0.7956093000000001, 3.0], [1.5587396123545605, 2.683901074764725], [2.121320343559643, 2.121320343559643], [2.683901074764725, 1.5587396123545605], [3.0, 0.7956093000000001], [3.0, 0.0], [3.0, -0.7956093000000001], [2.683901074764725, -1.5587396123545605], [2.121320343559643, -2.121320343559643], [1.5587396123545605, -2.683901074764725], [0.7956093000000001, -3.0], [0.0, -3.0], [-0.7956093000000001, -3.0], [-1.5587396123545605, -2.683901074764725], [-2.121320343559643, -2.121320343559643], [-2.683901074764725, -1.5587396123545605], [-3.0, -0.7956093000000001], [-3.0, 0.0], [-3.0, 0.7956093000000001], [-2.683901074764725, 1.5587396123545605], [-2.121320343559643, 2.121320343559643], [-1.5587396123545605, 2.683901074764725], [-0.7956093000000001, 3.0], [0.0, 3.0]], [\"M\", \"C\", \"C\", \"C\", \"C\", \"C\", \"C\", \"C\", \"C\", \"Z\"]]}, {\"data\": \"data01\", \"xindex\": 0, \"yindex\": 2, \"coordinates\": \"data\", \"id\": \"el70201966726383824pts\", \"facecolor\": \"#FF7F0E\", \"edgecolor\": \"#FF7F0E\", \"edgewidth\": 1.0, \"alpha\": 1, \"zorder\": 2, \"markerpath\": [[[0.0, 3.0], [0.7956093000000001, 3.0], [1.5587396123545605, 2.683901074764725], [2.121320343559643, 2.121320343559643], [2.683901074764725, 1.5587396123545605], [3.0, 0.7956093000000001], [3.0, 0.0], [3.0, -0.7956093000000001], [2.683901074764725, -1.5587396123545605], [2.121320343559643, -2.121320343559643], [1.5587396123545605, -2.683901074764725], [0.7956093000000001, -3.0], [0.0, -3.0], [-0.7956093000000001, -3.0], [-1.5587396123545605, -2.683901074764725], [-2.121320343559643, -2.121320343559643], [-2.683901074764725, -1.5587396123545605], [-3.0, -0.7956093000000001], [-3.0, 0.0], [-3.0, 0.7956093000000001], [-2.683901074764725, 1.5587396123545605], [-2.121320343559643, 2.121320343559643], [-1.5587396123545605, 2.683901074764725], [-0.7956093000000001, 3.0], [0.0, 3.0]], [\"M\", \"C\", \"C\", \"C\", \"C\", \"C\", \"C\", \"C\", \"C\", \"Z\"]]}], \"texts\": [{\"text\": \"Perioud After All Time High Closed Month Studied (In Month)\", \"position\": [0.5, -0.03863134657836642], \"coordinates\": \"axes\", \"h_anchor\": \"middle\", \"v_baseline\": \"hanging\", \"rotation\": -0.0, \"fontsize\": 10.0, \"color\": \"#000000\", \"alpha\": 1, \"zorder\": 3, \"id\": \"el70201966726382368\"}, {\"text\": \"Continiously Compounded Interest Rate (In %) During Perioud Market On X axis\", \"position\": [-0.04838709677419355, 0.5], \"coordinates\": \"axes\", \"h_anchor\": \"middle\", \"v_baseline\": \"auto\", \"rotation\": -90.0, \"fontsize\": 10.0, \"color\": \"#000000\", \"alpha\": 1, \"zorder\": 3, \"id\": \"el70201966726382760\"}], \"collections\": [], \"images\": [], \"sharex\": [], \"sharey\": []}], \"data\": {\"data01\": [[0.0, 6.49, 7.42], [1.0, 7.7, 7.03], [2.0, 7.1, 7.17], [3.0, 6.95, 7.15], [4.0, 8.3, 6.71], [5.0, 8.35, 6.68], [6.0, 8.58, 6.63], [7.0, 8.32, 6.71], [8.0, 8.44, 6.66], [9.0, 8.7, 6.6], [10.0, 8.85, 6.56], [11.0, 8.7, 6.6], [12.0, 8.15, 6.75], [13.0, 8.11, 6.73], [14.0, 7.65, 6.87], [15.0, 7.56, 6.89], [16.0, 7.56, 6.89], [17.0, 7.51, 6.92], [18.0, 7.68, 6.86], [19.0, 7.38, 6.95], [20.0, 7.23, 6.99], [21.0, 7.03, 7.05], [22.0, 7.08, 7.03], [23.0, 7.59, 6.86], [24.0, 7.77, 6.81], [25.0, 7.97, 6.75], [26.0, 7.86, 6.79], [27.0, 7.8, 6.81], [28.0, 7.83, 6.81], [29.0, 7.79, 6.83], [30.0, 7.83, 6.82], [31.0, 7.81, 6.83], [32.0, 7.69, 6.87], [33.0, 7.73, 6.87], [34.0, 8.01, 6.79], [35.0, 8.06, 6.79], [36.0, 8.0, 6.82], [37.0, 8.02, 6.82], [38.0, 7.79, 6.9], [39.0, 7.8, 6.91], [40.0, 7.66, 6.96], [41.0, 7.53, 7.01], [42.0, 7.43, 7.06], [43.0, 7.42, 7.09], [44.0, 7.6, 7.07], [45.0, 7.65, 7.08], [46.0, 7.91, 7.03], [47.0, 7.93, 7.05], [48.0, 7.97, 7.05], [49.0, 7.96, 7.07], [50.0, 7.89, 7.1], [51.0, 7.83, 7.13], [52.0, 7.79, 7.15], [53.0, 7.77, 7.16], [54.0, 7.56, 7.23], [55.0, 7.45, 7.28], [56.0, 7.38, 7.31], [57.0, 7.27, 7.36], [58.0, 7.28, 7.37], [59.0, 7.22, 7.4], [60.0, 7.27, 7.39], [61.0, 7.22, 7.41], [62.0, 7.16, 7.43], [63.0, 7.2, 7.43], [64.0, 7.13, 7.46], [65.0, 7.13, 7.46], [66.0, 7.06, 7.49], [67.0, 7.01, 7.51], [68.0, 7.04, 7.5], [69.0, 7.01, 7.52], [70.0, 7.08, 7.5], [71.0, 7.06, 7.51], [72.0, 7.09, 7.51], [73.0, 7.12, 7.5], [74.0, 7.09, 7.52], [75.0, 7.08, 7.53], [76.0, 7.1, 7.53], [77.0, 7.11, 7.53], [78.0, 7.08, 7.54], [79.0, 7.06, 7.55], [80.0, 7.04, 7.57], [81.0, 7.01, 7.58], [82.0, 6.98, 7.59], [83.0, 6.89, 7.62], [84.0, 6.87, 7.63], [85.0, 6.79, 7.66], [86.0, 6.72, 7.69], [87.0, 6.71, 7.69], [88.0, 6.73, 7.69], [89.0, 6.73, 7.7], [90.0, 6.73, 7.7], [91.0, 6.75, 7.7], [92.0, 6.81, 7.68], [93.0, 6.83, 7.68], [94.0, 6.89, 7.67], [95.0, 6.91, 7.67], [96.0, 6.93, 7.67], [97.0, 6.94, 7.67], [98.0, 6.9, 7.68], [99.0, 6.92, 7.68], [100.0, 6.95, 7.68], [101.0, 6.94, 7.68], [102.0, 6.93, 7.68], [103.0, 6.9, 7.7], [104.0, 6.9, 7.7], [105.0, 6.89, 7.71], [106.0, 6.81, 7.74], [107.0, 6.79, 7.75], [108.0, 6.74, 7.77], [109.0, 6.66, 7.79], [110.0, 6.67, 7.79], [111.0, 6.67, 7.8], [112.0, 6.65, 7.8], [113.0, 6.6, 7.82], [114.0, 6.54, 7.83], [115.0, 6.56, 7.82], [116.0, 6.51, 7.84], [117.0, 6.47, 7.85], [118.0, 6.45, 7.85], [119.0, 6.43, 7.85]]}, \"id\": \"el70201966723183560\", \"plugins\": [{\"type\": \"reset\"}, {\"type\": \"zoom\", \"button\": true, \"enabled\": false}, {\"type\": \"boxzoom\", \"button\": true, \"enabled\": false}]});\n",
       "      });\n",
       "    });\n",
       "}else{\n",
       "    // require.js not available: dynamically load d3 & mpld3\n",
       "    mpld3_load_lib(\"https://mpld3.github.io/js/d3.v3.min.js\", function(){\n",
       "         mpld3_load_lib(\"https://mpld3.github.io/js/mpld3.v0.3.js\", function(){\n",
       "                 \n",
       "                 mpld3.draw_figure(\"fig_el702019667231835609294153248\", {\"width\": 720.0, \"height\": 720.0, \"axes\": [{\"bbox\": [0.125, 0.125, 0.775, 0.755], \"xlim\": [-5.95, 124.95], \"ylim\": [6.308999999999999, 8.971], \"xdomain\": [-5.95, 124.95], \"ydomain\": [6.308999999999999, 8.971], \"xscale\": \"linear\", \"yscale\": \"linear\", \"axes\": [{\"position\": \"bottom\", \"nticks\": 9, \"tickvalues\": null, \"tickformat\": null, \"scale\": \"linear\", \"fontsize\": 10.0, \"grid\": {\"gridOn\": false}, \"visible\": true}, {\"position\": \"left\", \"nticks\": 7, \"tickvalues\": null, \"tickformat\": null, \"scale\": \"linear\", \"fontsize\": 10.0, \"grid\": {\"gridOn\": false}, \"visible\": true}], \"axesbg\": \"#FFFFFF\", \"axesbgalpha\": null, \"zoomable\": true, \"id\": \"el70201966723183056\", \"lines\": [], \"paths\": [], \"markers\": [{\"data\": \"data01\", \"xindex\": 0, \"yindex\": 1, \"coordinates\": \"data\", \"id\": \"el70201966738052936pts\", \"facecolor\": \"#1F77B4\", \"edgecolor\": \"#1F77B4\", \"edgewidth\": 1.0, \"alpha\": 1, \"zorder\": 2, \"markerpath\": [[[0.0, 3.0], [0.7956093000000001, 3.0], [1.5587396123545605, 2.683901074764725], [2.121320343559643, 2.121320343559643], [2.683901074764725, 1.5587396123545605], [3.0, 0.7956093000000001], [3.0, 0.0], [3.0, -0.7956093000000001], [2.683901074764725, -1.5587396123545605], [2.121320343559643, -2.121320343559643], [1.5587396123545605, -2.683901074764725], [0.7956093000000001, -3.0], [0.0, -3.0], [-0.7956093000000001, -3.0], [-1.5587396123545605, -2.683901074764725], [-2.121320343559643, -2.121320343559643], [-2.683901074764725, -1.5587396123545605], [-3.0, -0.7956093000000001], [-3.0, 0.0], [-3.0, 0.7956093000000001], [-2.683901074764725, 1.5587396123545605], [-2.121320343559643, 2.121320343559643], [-1.5587396123545605, 2.683901074764725], [-0.7956093000000001, 3.0], [0.0, 3.0]], [\"M\", \"C\", \"C\", \"C\", \"C\", \"C\", \"C\", \"C\", \"C\", \"Z\"]]}, {\"data\": \"data01\", \"xindex\": 0, \"yindex\": 2, \"coordinates\": \"data\", \"id\": \"el70201966726383824pts\", \"facecolor\": \"#FF7F0E\", \"edgecolor\": \"#FF7F0E\", \"edgewidth\": 1.0, \"alpha\": 1, \"zorder\": 2, \"markerpath\": [[[0.0, 3.0], [0.7956093000000001, 3.0], [1.5587396123545605, 2.683901074764725], [2.121320343559643, 2.121320343559643], [2.683901074764725, 1.5587396123545605], [3.0, 0.7956093000000001], [3.0, 0.0], [3.0, -0.7956093000000001], [2.683901074764725, -1.5587396123545605], [2.121320343559643, -2.121320343559643], [1.5587396123545605, -2.683901074764725], [0.7956093000000001, -3.0], [0.0, -3.0], [-0.7956093000000001, -3.0], [-1.5587396123545605, -2.683901074764725], [-2.121320343559643, -2.121320343559643], [-2.683901074764725, -1.5587396123545605], [-3.0, -0.7956093000000001], [-3.0, 0.0], [-3.0, 0.7956093000000001], [-2.683901074764725, 1.5587396123545605], [-2.121320343559643, 2.121320343559643], [-1.5587396123545605, 2.683901074764725], [-0.7956093000000001, 3.0], [0.0, 3.0]], [\"M\", \"C\", \"C\", \"C\", \"C\", \"C\", \"C\", \"C\", \"C\", \"Z\"]]}], \"texts\": [{\"text\": \"Perioud After All Time High Closed Month Studied (In Month)\", \"position\": [0.5, -0.03863134657836642], \"coordinates\": \"axes\", \"h_anchor\": \"middle\", \"v_baseline\": \"hanging\", \"rotation\": -0.0, \"fontsize\": 10.0, \"color\": \"#000000\", \"alpha\": 1, \"zorder\": 3, \"id\": \"el70201966726382368\"}, {\"text\": \"Continiously Compounded Interest Rate (In %) During Perioud Market On X axis\", \"position\": [-0.04838709677419355, 0.5], \"coordinates\": \"axes\", \"h_anchor\": \"middle\", \"v_baseline\": \"auto\", \"rotation\": -90.0, \"fontsize\": 10.0, \"color\": \"#000000\", \"alpha\": 1, \"zorder\": 3, \"id\": \"el70201966726382760\"}], \"collections\": [], \"images\": [], \"sharex\": [], \"sharey\": []}], \"data\": {\"data01\": [[0.0, 6.49, 7.42], [1.0, 7.7, 7.03], [2.0, 7.1, 7.17], [3.0, 6.95, 7.15], [4.0, 8.3, 6.71], [5.0, 8.35, 6.68], [6.0, 8.58, 6.63], [7.0, 8.32, 6.71], [8.0, 8.44, 6.66], [9.0, 8.7, 6.6], [10.0, 8.85, 6.56], [11.0, 8.7, 6.6], [12.0, 8.15, 6.75], [13.0, 8.11, 6.73], [14.0, 7.65, 6.87], [15.0, 7.56, 6.89], [16.0, 7.56, 6.89], [17.0, 7.51, 6.92], [18.0, 7.68, 6.86], [19.0, 7.38, 6.95], [20.0, 7.23, 6.99], [21.0, 7.03, 7.05], [22.0, 7.08, 7.03], [23.0, 7.59, 6.86], [24.0, 7.77, 6.81], [25.0, 7.97, 6.75], [26.0, 7.86, 6.79], [27.0, 7.8, 6.81], [28.0, 7.83, 6.81], [29.0, 7.79, 6.83], [30.0, 7.83, 6.82], [31.0, 7.81, 6.83], [32.0, 7.69, 6.87], [33.0, 7.73, 6.87], [34.0, 8.01, 6.79], [35.0, 8.06, 6.79], [36.0, 8.0, 6.82], [37.0, 8.02, 6.82], [38.0, 7.79, 6.9], [39.0, 7.8, 6.91], [40.0, 7.66, 6.96], [41.0, 7.53, 7.01], [42.0, 7.43, 7.06], [43.0, 7.42, 7.09], [44.0, 7.6, 7.07], [45.0, 7.65, 7.08], [46.0, 7.91, 7.03], [47.0, 7.93, 7.05], [48.0, 7.97, 7.05], [49.0, 7.96, 7.07], [50.0, 7.89, 7.1], [51.0, 7.83, 7.13], [52.0, 7.79, 7.15], [53.0, 7.77, 7.16], [54.0, 7.56, 7.23], [55.0, 7.45, 7.28], [56.0, 7.38, 7.31], [57.0, 7.27, 7.36], [58.0, 7.28, 7.37], [59.0, 7.22, 7.4], [60.0, 7.27, 7.39], [61.0, 7.22, 7.41], [62.0, 7.16, 7.43], [63.0, 7.2, 7.43], [64.0, 7.13, 7.46], [65.0, 7.13, 7.46], [66.0, 7.06, 7.49], [67.0, 7.01, 7.51], [68.0, 7.04, 7.5], [69.0, 7.01, 7.52], [70.0, 7.08, 7.5], [71.0, 7.06, 7.51], [72.0, 7.09, 7.51], [73.0, 7.12, 7.5], [74.0, 7.09, 7.52], [75.0, 7.08, 7.53], [76.0, 7.1, 7.53], [77.0, 7.11, 7.53], [78.0, 7.08, 7.54], [79.0, 7.06, 7.55], [80.0, 7.04, 7.57], [81.0, 7.01, 7.58], [82.0, 6.98, 7.59], [83.0, 6.89, 7.62], [84.0, 6.87, 7.63], [85.0, 6.79, 7.66], [86.0, 6.72, 7.69], [87.0, 6.71, 7.69], [88.0, 6.73, 7.69], [89.0, 6.73, 7.7], [90.0, 6.73, 7.7], [91.0, 6.75, 7.7], [92.0, 6.81, 7.68], [93.0, 6.83, 7.68], [94.0, 6.89, 7.67], [95.0, 6.91, 7.67], [96.0, 6.93, 7.67], [97.0, 6.94, 7.67], [98.0, 6.9, 7.68], [99.0, 6.92, 7.68], [100.0, 6.95, 7.68], [101.0, 6.94, 7.68], [102.0, 6.93, 7.68], [103.0, 6.9, 7.7], [104.0, 6.9, 7.7], [105.0, 6.89, 7.71], [106.0, 6.81, 7.74], [107.0, 6.79, 7.75], [108.0, 6.74, 7.77], [109.0, 6.66, 7.79], [110.0, 6.67, 7.79], [111.0, 6.67, 7.8], [112.0, 6.65, 7.8], [113.0, 6.6, 7.82], [114.0, 6.54, 7.83], [115.0, 6.56, 7.82], [116.0, 6.51, 7.84], [117.0, 6.47, 7.85], [118.0, 6.45, 7.85], [119.0, 6.43, 7.85]]}, \"id\": \"el70201966723183560\", \"plugins\": [{\"type\": \"reset\"}, {\"type\": \"zoom\", \"button\": true, \"enabled\": false}, {\"type\": \"boxzoom\", \"button\": true, \"enabled\": false}]});\n",
       "            })\n",
       "         });\n",
       "}\n",
       "</script>"
      ],
      "text/plain": [
       "<Figure size 720x720 with 1 Axes>"
      ]
     },
     "metadata": {
      "needs_background": "light"
     },
     "output_type": "display_data"
    }
   ],
   "source": [
    "#plot ath closed rates and NOT ath closed norates on one plot\n",
    "plt.figure(figsize=(10, 10))\n",
    "plt.xlabel('Perioud After All Time High Closed Month Studied (In Month)') \n",
    "plt.ylabel('Continiously Compounded Interest Rate (In %) During Perioud Market On X axis' )\n",
    "plt.plot(rates, 'o')     #in blue by default\n",
    "plt.plot(norates, 'o')   #in orange by default\n",
    "plt.show()"
   ]
  }
 ],
 "metadata": {
  "kernelspec": {
   "display_name": "Python 3",
   "language": "python",
   "name": "python3"
  },
  "language_info": {
   "codemirror_mode": {
    "name": "ipython",
    "version": 3
   },
   "file_extension": ".py",
   "mimetype": "text/x-python",
   "name": "python",
   "nbconvert_exporter": "python",
   "pygments_lexer": "ipython3",
   "version": "3.7.3"
  }
 },
 "nbformat": 4,
 "nbformat_minor": 2
}
